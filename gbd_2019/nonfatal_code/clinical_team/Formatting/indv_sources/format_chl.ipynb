{
 "cells": [
  {
   "cell_type": "code",
   "execution_count": 6,
   "metadata": {
    "collapsed": false
   },
   "outputs": [],
   "source": [
    "import pandas as pd\n",
    "from pathlib import Path\n",
    "import numpy as np\n",
    "import dbf\n",
    "import datetime"
   ]
  },
  {
   "cell_type": "markdown",
   "metadata": {},
   "source": [
    "
    "In this case we're pulling in only one source-year"
   ]
  },
  {
   "cell_type": "code",
   "execution_count": 7,
   "metadata": {
    "collapsed": false
   },
   "outputs": [
    {
     "data": {
      "FILENAME": [
       "<div>\n",
       "<table border=\"1\" class=\"dataframe\">\n",
       "  <thead>\n",
       "    <tr style=\"text-align: right;\">\n",
       "      <th></th>\n",
       "      <th>SER_SALUD</th>\n",
       "      <th>estab</th>\n",
       "      <th>sexo</th>\n",
       "      <th>edad</th>\n",
       "      <th>previ</th>\n",
       "      <th>benef</th>\n",
       "      <th>comuna</th>\n",
       "      <th>FECHA_EGRE</th>\n",
       "      <th>sercle</th>\n",
       "      <th>DIAS_ESTAD</th>\n",
       "      <th>DIAG1</th>\n",
       "      <th>DIAG2</th>\n",
       "      <th>COND_EGR</th>\n",
       "      <th>intervq</th>\n",
       "      <th>region</th>\n",
       "      <th>SERV_RES</th>\n",
       "    </tr>\n",
       "  </thead>\n",
       "  <tbody>\n",
       "    <tr>\n",
       "      <th>0</th>\n",
       "      <td>1</td>\n",
       "      <td>100</td>\n",
       "      <td>2</td>\n",
       "      <td>37</td>\n",
       "      <td>1.0</td>\n",
       "      <td>1.0</td>\n",
       "      <td>1101</td>\n",
       "      <td>2001-07-08</td>\n",
       "      <td>600-02</td>\n",
       "      <td>1</td>\n",
       "      <td>O039</td>\n",
       "      <td></td>\n",
       "      <td>1.0</td>\n",
       "      <td>1.0</td>\n",
       "      <td>1</td>\n",
       "      <td>2</td>\n",
       "    </tr>\n",
       "    <tr>\n",
       "      <th>1</th>\n",
       "      <td>1</td>\n",
       "      <td>100</td>\n",
       "      <td>1</td>\n",
       "      <td>33</td>\n",
       "      <td>1.0</td>\n",
       "      <td>1.0</td>\n",
       "      <td>1101</td>\n",
       "      <td>2001-08-27</td>\n",
       "      <td>100-99</td>\n",
       "      <td>16</td>\n",
       "      <td>C629</td>\n",
       "      <td></td>\n",
       "      <td>1.0</td>\n",
       "      <td>2.0</td>\n",
       "      <td>1</td>\n",
       "      <td>2</td>\n",
       "    </tr>\n",
       "    <tr>\n",
       "      <th>2</th>\n",
       "      <td>1</td>\n",
       "      <td>100</td>\n",
       "      <td>1</td>\n",
       "      <td>6</td>\n",
       "      <td>1.0</td>\n",
       "      <td>1.0</td>\n",
       "      <td>1101</td>\n",
       "      <td>2001-05-24</td>\n",
       "      <td>500-99</td>\n",
       "      <td>1</td>\n",
       "      <td>A09X</td>\n",
       "      <td></td>\n",
       "      <td>1.0</td>\n",
       "      <td>2.0</td>\n",
       "      <td>1</td>\n",
       "      <td>2</td>\n",
       "    </tr>\n",
       "    <tr>\n",
       "      <th>3</th>\n",
       "      <td>1</td>\n",
       "      <td>100</td>\n",
       "      <td>2</td>\n",
       "      <td>47</td>\n",
       "      <td>1.0</td>\n",
       "      <td>1.0</td>\n",
       "      <td>1101</td>\n",
       "      <td>2001-04-04</td>\n",
       "      <td>200-00</td>\n",
       "      <td>25</td>\n",
       "      <td>K810</td>\n",
       "      <td></td>\n",
       "      <td>1.0</td>\n",
       "      <td>1.0</td>\n",
       "      <td>1</td>\n",
       "      <td>2</td>\n",
       "    </tr>\n",
       "    <tr>\n",
       "      <th>4</th>\n",
       "      <td>1</td>\n",
       "      <td>100</td>\n",
       "      <td>1</td>\n",
       "      <td>0</td>\n",
       "      <td>4.0</td>\n",
       "      <td>NaN</td>\n",
       "      <td>1101</td>\n",
       "      <td>2001-12-24</td>\n",
       "      <td>500-99</td>\n",
       "      <td>2</td>\n",
       "      <td>S411</td>\n",
       "      <td>V439</td>\n",
       "      <td>1.0</td>\n",
       "      <td>2.0</td>\n",
       "      <td>1</td>\n",
       "      <td>2</td>\n",
       "    </tr>\n",
       "  </tbody>\n",
       "</table>\n",
       "</div>"
      ],
      "FILENAME": [
       "   SER_SALUD  estab  sexo  edad  previ  benef  comuna FECHA_EGRE  sercle  \\\n",
       "0          1    100     2    37    1.0    1.0    1101 2001-07-08  600-02   \n",
       "1          1    100     1    33    1.0    1.0    1101 2001-08-27  100-99   \n",
       "2          1    100     1     6    1.0    1.0    1101 2001-05-24  500-99   \n",
       "3          1    100     2    47    1.0    1.0    1101 2001-04-04  200-00   \n",
       "4          1    100     1     0    4.0    NaN    1101 2001-12-24  500-99   \n",
       "\n",
       "   DIAS_ESTAD DIAG1 DIAG2  COND_EGR  intervq  region SERV_RES  \n",
       "0           1  O039             1.0      1.0       1        2  \n",
       "1          16  C629             1.0      2.0       1        2  \n",
       "2           1  A09X             1.0      2.0       1        2  \n",
       "3          25  K810             1.0      1.0       1        2  \n",
       "4           2  S411  V439       1.0      2.0       1        2  "
      ]
     },
     "execution_count": 7,
     "metadata": {},
     "output_type": "execute_result"
    }
   ],
   "source": [
    "FILEPATH")\n",
    "df.head()"
   ]
  },
  {
   "cell_type": "code",
   "execution_count": 8,
   "metadata": {
    "collapsed": false
   },
   "outputs": [
    {
     "data": {
      "FILENAME": [
       "2001.0    1506890\n",
       "2000.0         70\n",
       "Name: year, dtype: int64"
      ]
     },
     "execution_count": 8,
     "metadata": {},
     "output_type": "execute_result"
    }
   ],
   "source": [
    "df['year'] = df['FECHA_EGRE'].dt.year\n",
    "df['year'].value_counts()\n"
   ]
  },
  {
   "cell_type": "code",
   "execution_count": 4,
   "metadata": {
    "collapsed": false
   },
   "outputs": [],
   "source": [
    "
   ]
  },
  {
   "cell_type": "code",
   "execution_count": 9,
   "metadata": {
    "collapsed": false
   },
   "outputs": [],
   "source": [
    "p = Path("FILEPATH",
    "filepaths = list(p.glob("FILEPATH"))\n",
    "badfile = list(p.glob("FILEPATH"))\n",
    "df_1 = pd.read_stata(str(filepaths[0]))\n",
    "df_2 = pd.read_stata(str(filepaths[1]))\n",
    "df_3 = pd.read_stata(str(filepaths[2]))\n",
    "df_4 = pd.read_stata(str(filepaths[3]))\n",
    "
    "
    "
   ]
  },
  {
   "cell_type": "code",
   "execution_count": 30,
   "metadata": {
    "collapsed": false
   },
   "outputs": [],
   "source": [
    "df_1.columns = map(str.lower, df_1.columns)\n",
    "df_2.columns = map(str.lower, df_2.columns)\n",
    "df_3.columns = map(str.lower, df_3.columns)\n",
    "df_4.columns = map(str.lower, df_4.columns)\n",
    "                   "
   ]
  },
  {
   "cell_type": "code",
   "execution_count": 31,
   "metadata": {
    "collapsed": false
   },
   "outputs": [
    {
     "data": {
      "FILENAME": [
       "Index(['ser_salud', 'estab', 'sexo', 'edad', 'previ', 'benef', 'comuna',\n",
       "       'fecha_egre', 'sercle', 'dias_estad', 'diag1', 'diag2', 'cond_egr',\n",
       "       'intervq', 'region', 'serv_res'],\n",
       "      dtype='object')"
      ]
     },
     "execution_count": 31,
     "metadata": {},
     "output_type": "execute_result"
    }
   ],
   "source": [
    "df_4.columns"
   ]
  },
  {
   "cell_type": "code",
   "execution_count": 32,
   "metadata": {
    "collapsed": false
   },
   "outputs": [
    {
     "data": {
      "FILENAME": [
       "<div>\n",
       "<table border=\"1\" class=\"dataframe\">\n",
       "  <thead>\n",
       "    <tr style=\"text-align: right;\">\n",
       "      <th></th>\n",
       "      <th>ser_salud</th>\n",
       "      <th>estab</th>\n",
       "      <th>sexo</th>\n",
       "      <th>edad</th>\n",
       "      <th>previ</th>\n",
       "      <th>benef</th>\n",
       "      <th>comuna</th>\n",
       "      <th>egreso</th>\n",
       "      <th>sercle</th>\n",
       "      <th>dias_estad</th>\n",
       "      <th>diag1</th>\n",
       "      <th>diag2</th>\n",
       "      <th>cond_egr</th>\n",
       "      <th>intervq</th>\n",
       "      <th>region</th>\n",
       "      <th>ser_res</th>\n",
       "    </tr>\n",
       "  </thead>\n",
       "  <tbody>\n",
       "    <tr>\n",
       "      <th>0</th>\n",
       "      <td>1</td>\n",
       "      <td>100</td>\n",
       "      <td>1</td>\n",
       "      <td>59</td>\n",
       "      <td>1</td>\n",
       "      <td>1.0</td>\n",
       "      <td>1201</td>\n",
       "      <td>01-1-2002</td>\n",
       "      <td>120</td>\n",
       "      <td>5</td>\n",
       "      <td>E145</td>\n",
       "      <td></td>\n",
       "      <td>1</td>\n",
       "      <td>2</td>\n",
       "      <td>1</td>\n",
       "      <td>1</td>\n",
       "    </tr>\n",
       "    <tr>\n",
       "      <th>1</th>\n",
       "      <td>1</td>\n",
       "      <td>100</td>\n",
       "      <td>2</td>\n",
       "      <td>28</td>\n",
       "      <td>1</td>\n",
       "      <td>2.0</td>\n",
       "      <td>1201</td>\n",
       "      <td>01-1-2002</td>\n",
       "      <td>120</td>\n",
       "      <td>14</td>\n",
       "      <td>K802</td>\n",
       "      <td></td>\n",
       "      <td>1</td>\n",
       "      <td>1</td>\n",
       "      <td>1</td>\n",
       "      <td>1</td>\n",
       "    </tr>\n",
       "    <tr>\n",
       "      <th>2</th>\n",
       "      <td>1</td>\n",
       "      <td>100</td>\n",
       "      <td>1</td>\n",
       "      <td>1</td>\n",
       "      <td>1</td>\n",
       "      <td>2.0</td>\n",
       "      <td>1201</td>\n",
       "      <td>01-1-2002</td>\n",
       "      <td>150</td>\n",
       "      <td>1</td>\n",
       "      <td>A09X</td>\n",
       "      <td></td>\n",
       "      <td>1</td>\n",
       "      <td>2</td>\n",
       "      <td>1</td>\n",
       "      <td>1</td>\n",
       "    </tr>\n",
       "    <tr>\n",
       "      <th>3</th>\n",
       "      <td>1</td>\n",
       "      <td>100</td>\n",
       "      <td>1</td>\n",
       "      <td>9</td>\n",
       "      <td>1</td>\n",
       "      <td>2.0</td>\n",
       "      <td>1201</td>\n",
       "      <td>01-1-2002</td>\n",
       "      <td>150</td>\n",
       "      <td>2</td>\n",
       "      <td>K359</td>\n",
       "      <td></td>\n",
       "      <td>1</td>\n",
       "      <td>1</td>\n",
       "      <td>1</td>\n",
       "      <td>1</td>\n",
       "    </tr>\n",
       "    <tr>\n",
       "      <th>4</th>\n",
       "      <td>1</td>\n",
       "      <td>100</td>\n",
       "      <td>1</td>\n",
       "      <td>5</td>\n",
       "      <td>1</td>\n",
       "      <td>2.0</td>\n",
       "      <td>1201</td>\n",
       "      <td>01-1-2002</td>\n",
       "      <td>150</td>\n",
       "      <td>2</td>\n",
       "      <td>K359</td>\n",
       "      <td></td>\n",
       "      <td>1</td>\n",
       "      <td>1</td>\n",
       "      <td>1</td>\n",
       "      <td>1</td>\n",
       "    </tr>\n",
       "  </tbody>\n",
       "</table>\n",
       "</div>"
      ],
      "FILENAME": [
       "   ser_salud  estab  sexo  edad  previ  benef  comuna     egreso sercle  \\\n",
       "0          1    100     1    59      1    1.0    1201  01-1-2002    120   \n",
       "1          1    100     2    28      1    2.0    1201  01-1-2002    120   \n",
       "2          1    100     1     1      1    2.0    1201  01-1-2002    150   \n",
       "3          1    100     1     9      1    2.0    1201  01-1-2002    150   \n",
       "4          1    100     1     5      1    2.0    1201  01-1-2002    150   \n",
       "\n",
       "   dias_estad diag1 diag2  cond_egr  intervq  region  ser_res  \n",
       "0           5  E145               1        2       1        1  \n",
       "1          14  K802               1        1       1        1  \n",
       "2           1  A09X               1        2       1        1  \n",
       "3           2  K359               1        1       1        1  \n",
       "4           2  K359               1        1       1        1  "
      ]
     },
     "execution_count": 32,
     "metadata": {},
     "output_type": "execute_result"
    }
   ],
   "source": [
    "df_2.head()"
   ]
  },
  {
   "cell_type": "code",
   "execution_count": 33,
   "metadata": {
    "collapsed": false
   },
   "outputs": [
    {
     "data": {
      "FILENAME": [
       "<div>\n",
       "<table border=\"1\" class=\"dataframe\">\n",
       "  <thead>\n",
       "    <tr style=\"text-align: right;\">\n",
       "      <th></th>\n",
       "      <th>ser_salud</th>\n",
       "      <th>estab</th>\n",
       "      <th>sexo</th>\n",
       "      <th>edad</th>\n",
       "      <th>previ</th>\n",
       "      <th>benef</th>\n",
       "      <th>mod</th>\n",
       "      <th>comuna</th>\n",
       "      <th>fecha_egr</th>\n",
       "      <th>serc_egr</th>\n",
       "      <th>dias_est</th>\n",
       "      <th>diag1</th>\n",
       "      <th>diag2</th>\n",
       "      <th>cond_egr</th>\n",
       "      <th>interv_q</th>\n",
       "      <th>region</th>\n",
       "      <th>serv_res</th>\n",
       "    </tr>\n",
       "  </thead>\n",
       "  <tbody>\n",
       "    <tr>\n",
       "      <th>0</th>\n",
       "      <td>10</td>\n",
       "      <td>10-100</td>\n",
       "      <td>2</td>\n",
       "      <td>23</td>\n",
       "      <td>1</td>\n",
       "      <td>1</td>\n",
       "      <td>1</td>\n",
       "      <td>13602</td>\n",
       "      <td>2012-07-04</td>\n",
       "      <td>161</td>\n",
       "      <td>6</td>\n",
       "      <td>O681</td>\n",
       "      <td>NULL</td>\n",
       "      <td>1</td>\n",
       "      <td>1</td>\n",
       "      <td>13</td>\n",
       "      <td>10</td>\n",
       "    </tr>\n",
       "    <tr>\n",
       "      <th>1</th>\n",
       "      <td>24</td>\n",
       "      <td>24-105</td>\n",
       "      <td>1</td>\n",
       "      <td>41</td>\n",
       "      <td>1</td>\n",
       "      <td>3</td>\n",
       "      <td>1</td>\n",
       "      <td>10107</td>\n",
       "      <td>2012-07-25</td>\n",
       "      <td>130</td>\n",
       "      <td>22</td>\n",
       "      <td>M009</td>\n",
       "      <td>NULL</td>\n",
       "      <td>1</td>\n",
       "      <td>1</td>\n",
       "      <td>10</td>\n",
       "      <td>24</td>\n",
       "    </tr>\n",
       "    <tr>\n",
       "      <th>2</th>\n",
       "      <td>4</td>\n",
       "      <td>04-100</td>\n",
       "      <td>2</td>\n",
       "      <td>24</td>\n",
       "      <td>1</td>\n",
       "      <td>2</td>\n",
       "      <td>1</td>\n",
       "      <td>3101</td>\n",
       "      <td>2012-12-25</td>\n",
       "      <td>161</td>\n",
       "      <td>3</td>\n",
       "      <td>O620</td>\n",
       "      <td>NULL</td>\n",
       "      <td>1</td>\n",
       "      <td>1</td>\n",
       "      <td>3</td>\n",
       "      <td>4</td>\n",
       "    </tr>\n",
       "    <tr>\n",
       "      <th>3</th>\n",
       "      <td>5</td>\n",
       "      <td>05-101</td>\n",
       "      <td>1</td>\n",
       "      <td>77</td>\n",
       "      <td>1</td>\n",
       "      <td>2</td>\n",
       "      <td>1</td>\n",
       "      <td>4101</td>\n",
       "      <td>2012-10-28</td>\n",
       "      <td>20</td>\n",
       "      <td>5</td>\n",
       "      <td>I620</td>\n",
       "      <td>NULL</td>\n",
       "      <td>1</td>\n",
       "      <td>1</td>\n",
       "      <td>4</td>\n",
       "      <td>5</td>\n",
       "    </tr>\n",
       "    <tr>\n",
       "      <th>4</th>\n",
       "      <td>11</td>\n",
       "      <td>11-200</td>\n",
       "      <td>2</td>\n",
       "      <td>45</td>\n",
       "      <td>2</td>\n",
       "      <td>0</td>\n",
       "      <td>0</td>\n",
       "      <td>13203</td>\n",
       "      <td>2012-07-14</td>\n",
       "      <td>20</td>\n",
       "      <td>1</td>\n",
       "      <td>K801</td>\n",
       "      <td>NULL</td>\n",
       "      <td>1</td>\n",
       "      <td>1</td>\n",
       "      <td>13</td>\n",
       "      <td>14</td>\n",
       "    </tr>\n",
       "  </tbody>\n",
       "</table>\n",
       "</div>"
      ],
      "FILENAME": [
       "   ser_salud   estab  sexo  edad  previ  benef  mod  comuna  fecha_egr  \\\n",
       "0         10  10-100     2    23      1      1    1   13602 2012-07-04   \n",
       "1         24  24-105     1    41      1      3    1   10107 2012-07-25   \n",
       "2          4  04-100     2    24      1      2    1    3101 2012-12-25   \n",
       "3          5  05-101     1    77      1      2    1    4101 2012-10-28   \n",
       "4         11  11-200     2    45      2      0    0   13203 2012-07-14   \n",
       "\n",
       "   serc_egr  dias_est diag1 diag2  cond_egr  interv_q  region  serv_res  \n",
       "0       161         6  O681  NULL         1         1      13        10  \n",
       "1       130        22  M009  NULL         1         1      10        24  \n",
       "2       161         3  O620  NULL         1         1       3         4  \n",
       "3        20         5  I620  NULL         1         1       4         5  \n",
       "4        20         1  K801  NULL         1         1      13        14  "
      ]
     },
     "execution_count": 33,
     "metadata": {},
     "output_type": "execute_result"
    }
   ],
   "source": [
    "df_3.head()"
   ]
  },
  {
   "cell_type": "code",
   "execution_count": 13,
   "metadata": {
    "collapsed": false
   },
   "outputs": [
    {
     "data": {
      "FILENAME": [
       "(5, 16)"
      ]
     },
     "execution_count": 13,
     "metadata": {},
     "output_type": "execute_result"
    }
   ],
   "source": [
    "df_4.head().shape"
   ]
  }
 ],
 "metadata": {
  "anaconda-cloud": {},
  "kernelspec": {
   "display_name": "Python [conda root]",
   "language": "python",
   "name": "conda-root-py"
  },
  "language_info": {
   "codemirror_mode": {
    "name": "ipython",
    "version": 3
   },
   "file_extension": ".py",
   "mimetype": "text/x-python",
   "name": "python",
   "nbconvert_exporter": "python",
   "pygments_lexer": "ipython3",
   "version": "3.5.2"
  }
 },
 "nbformat": 4,
 "nbformat_minor": 1
}
