{
 "cells": [
  {
   "cell_type": "markdown",
   "metadata": {},
   "source": [
    "# Set up environment"
   ]
  },
  {
   "cell_type": "code",
   "execution_count": 13,
   "metadata": {},
   "outputs": [],
   "source": [
    "import sys\n",
    "import os\n",
    "import time\n",
    "import shutil\n",
    "\n",
    "import argparse\n",
    "import dill as pickle\n",
    "\n",
    "import numpy as np\n",
    "import pandas as pd\n",
    "import matplotlib.pyplot as plt\n",
    "\n",
    "from xspline import xspline\n",
    "from limetr import LimeTr\n",
    "\n",
    "# sys.path.append('..')\n",
    "sys.path.append('FILEPATH')\n",
    "from mrbrt.__init__ import MR_BRT, MR_BeRT\n",
    "from mrbrt.utils import sampleKnots\n",
    "\n",
    "DATA_DIR = 'FILEPATH/data'\n",
    "OUT_DIR  = 'FILEPATH/output'"
   ]
  },
  {
   "cell_type": "markdown",
   "metadata": {},
   "source": [
    "# Load data and get initialization inputs"
   ]
  },
  {
   "cell_type": "code",
   "execution_count": 14,
   "metadata": {},
   "outputs": [],
   "source": [
    "df = pd.read_csv(os.path.join(DATA_DIR, 'risk_curve_input_fix_dose.csv'))\n",
    "df['se'] = np.sqrt((df['se']**2)*((1/df['mean'])**2))\n",
    "df['mean'] = np.log(df['mean'])\n",
    "df = df[['study', 'mean', 'se', 'indur_lower', 'indur_upper', 'lowest_0to9', 'bcg_yes', 'TST_1to3', 'TST_10']]\n",
    "df = df[~df.isnull().any(axis=1)]\n",
    "df = df.sort_values('study').reset_index(drop=True)\n",
    "\n",
    "obs_mean = df['mean'].values\n",
    "obs_std = df['se'].values\n",
    "study_sizes = df.groupby('study', sort=False).count()['mean'].tolist()\n",
    "N = np.sum(study_sizes)\n"
   ]
  },
  {
   "cell_type": "markdown",
   "metadata": {},
   "source": [
    "# Specify model"
   ]
  },
  {
   "cell_type": "markdown",
   "metadata": {},
   "source": [
    "#### Create covariates"
   ]
  },
  {
   "cell_type": "code",
   "execution_count": 15,
   "metadata": {},
   "outputs": [],
   "source": [
    "x_cov_list = []\n",
    "z_cov_list = []\n",
    "\n",
    "# spline\n",
    "x_cov_list += [{\n",
    "    'cov_type': 'spline_integral',\n",
    "    'spline_id': 0,\n",
    "    'mat': df[['indur_lower', 'indur_upper']].values.T\n",
    "}]\n",
    "\n",
    "# study-level covariates\n",
    "for cov in ['bcg_yes', 'TST_1to3', 'TST_10']:\n",
    "    x_cov_list += [{\n",
    "        'cov_type': 'linear',\n",
    "        'mat': df[[cov]].values.T\n",
    "    }]\n",
    "\n",
    "# z-intercept (gamma0)\n",
    "z_cov_list += [{\n",
    "    'cov_type': 'linear',\n",
    "    'mat': np.ones(len(df))\n",
    "}]\n",
    "\n",
    "# study-level covariates\n",
    "for cov in ['lowest_0to9', 'bcg_yes', 'TST_1to3', 'TST_10']:\n",
    "    z_cov_list += [{\n",
    "        'cov_type': 'linear',\n",
    "        'mat': df[[cov]].values.T\n",
    "    }]\n"
   ]
  },
  {
   "cell_type": "markdown",
   "metadata": {},
   "source": [
    "#### Sample knots"
   ]
  },
  {
   "cell_type": "code",
   "execution_count": 5,
   "metadata": {},
   "outputs": [],
   "source": [
    "n_knots = 5\n",
    "degree = 2\n",
    "width_pct = 0.1\n",
    "n_splines = 10\n",
    "\n",
    "# # get interval between the 5th and 95th percentile of data as % of total data domain\n",
    "# start = (np.percentile(x_cov_list[0]['mat'], 5) - x_cov_list[0]['mat'].min()) / \\\n",
    "#         (x_cov_list[0]['mat'].max() - x_cov_list[0]['mat'].min())\n",
    "# end = (np.percentile(x_cov_list[0]['mat'], 95) - x_cov_list[0]['mat'].min()) / \\\n",
    "#       (x_cov_list[0]['mat'].max() - x_cov_list[0]['mat'].min())\n",
    "start = (5 - 1) / x_cov_list[0]['mat'].max()\n",
    "end = (20 - 1) / x_cov_list[0]['mat'].max()\n",
    "\n",
    "# use that as knot placement range\n",
    "b = np.array([[start] * (n_knots - 2), [end] * (n_knots - 2)]).T\n",
    "\n",
    "# set a percentage of that as minimum interval width\n",
    "min_dist = (end - start) * width_pct\n",
    "d = np.array([[min_dist] * (n_knots - 1), [1.] * (n_knots - 1)]).T\n",
    "\n",
    "# sample knots and get xspline list\n",
    "knots_samples = sampleKnots(1, x_cov_list[0]['mat'].max(), \n",
    "                            n_knots-1,\n",
    "                            b=b, d=d,\n",
    "                            N=n_splines)\n",
    "spline_list = [xspline(knots, degree, l_linear=False, r_linear=True) for knots in knots_samples]\n"
   ]
  },
  {
   "cell_type": "code",
   "execution_count": 16,
   "metadata": {},
   "outputs": [],
   "source": [
    "n_knots = 5\n",
    "degree = 3\n",
    "width_pct = 0.1\n",
    "n_splines = 100\n",
    "\n",
    "# # get interval between the 5th and 95th percentile of data as % of total data domain\n",
    "start = (np.percentile(x_cov_list[0]['mat'], 5) - x_cov_list[0]['mat'].min()) / (x_cov_list[0]['mat'].max() - x_cov_list[0]['mat'].min())\n",
    "end = (np.percentile(x_cov_list[0]['mat'], 95) - x_cov_list[0]['mat'].min()) / (x_cov_list[0]['mat'].max() - x_cov_list[0]['mat'].min())\n",
    "#start = (2 - 1) / x_cov_list[0]['mat'].ptp()\n",
    "#end = (20 - 1) / x_cov_list[0]['mat'].ptp()\n",
    "\n",
    "# use that as knot placement range\n",
    "b = np.array([[start] * (n_knots - 2), [end] * (n_knots - 2)]).T\n",
    "\n",
    "# set a percentage of that as minimum interval width\n",
    "min_dist = (end - start) * width_pct\n",
    "d = np.array([[min_dist] * (n_knots - 1), [1.] * (n_knots - 1)]).T\n",
    "\n",
    "# sample knots and get xspline list\n",
    "knots_samples = sampleKnots(x_cov_list[0]['mat'].min(), x_cov_list[0]['mat'].max(), \n",
    "                            n_knots-1,\n",
    "                            b=b, d=d,\n",
    "                            N=n_splines)\n",
    "\n",
    "spline_list = [xspline(np.sort(np.hstack((0.0, 1.0, knots))), degree, l_linear=False, r_linear=True) for knots in knots_samples]"
   ]
  },
  {
   "cell_type": "markdown",
   "metadata": {},
   "source": [
    "#### Set priors"
   ]
  },
  {
   "cell_type": "code",
   "execution_count": 17,
   "metadata": {},
   "outputs": [],
   "source": [
    "prior_list = []\n",
    "\n",
    "# increasing monotonicity\n",
    "prior_list += [{\n",
    "    'prior_type': 'spline_shape_monotonicity',\n",
    "    'x_cov_id': 0,\n",
    "    'interval': [0, x_cov_list[0]['mat'].max()],\n",
    "    'indicator': 'increasing',\n",
    "    'num_points': 30\n",
    "}]\n",
    "\n",
    "# keep positive\n",
    "prior_list += [{\n",
    "    'prior_type': 'spline_shape_function_uprior',\n",
    "    'x_cov_id': 0,\n",
    "    'interval': [0, x_cov_list[0]['mat'].max()],\n",
    "    'indicator': [0.0, np.inf],\n",
    "    'num_points': 30\n",
    "}]\n",
    "\n",
    "# prior_list += [{\n",
    "#     'prior_type': 'spline_shape_function_uprior',\n",
    "#     'x_cov_id': 0,\n",
    "#     'interval': [0.0, 0.5],\n",
    "#     'indicator': [0.0, 1e-2],\n",
    "#     'num_points': 30\n",
    "# }]\n",
    "\n",
    "# set intercept to 0\n",
    "prior_list += [{\n",
    "    'prior_type':'x_cov_uprior',\n",
    "    'x_cov_id': 0,\n",
    "    'prior':np.array([\n",
    "        [0, 0] + [-np.inf] * (spline_list[0].num_spline_bases - 2),\n",
    "        [0, 0] + [np.inf] * (spline_list[0].num_spline_bases - 2)\n",
    "    ])\n",
    "}]\n",
    "\n",
    "# dampening\n",
    "prior_list += [{\n",
    "    'prior_type': 'spline_shape_max_derivative_gprior',\n",
    "    'x_cov_id': 0,\n",
    "    'prior': np.array([\n",
    "        [0] * (n_knots + 1 - 1),\n",
    "        np.sqrt([0.01] * (n_knots + 1 - 1))\n",
    "    ])\n",
    "}]\n"
   ]
  },
  {
   "cell_type": "markdown",
   "metadata": {},
   "source": [
    "# Run model"
   ]
  },
  {
   "cell_type": "code",
   "execution_count": 18,
   "metadata": {},
   "outputs": [],
   "source": [
    "mr = MR_BeRT(obs_mean=obs_mean,\n",
    "             obs_std=obs_std,\n",
    "             study_sizes=study_sizes,\n",
    "             x_cov_list=x_cov_list, z_cov_list=z_cov_list,\n",
    "             spline_list=spline_list,\n",
    "             inlier_percentage=0.9)\n",
    "mr.addPriors(prior_list)\n",
    "mr.fitModel(outer_max_iter=200)\n",
    "mr.scoreModel()\n"
   ]
  },
  {
   "cell_type": "markdown",
   "metadata": {},
   "source": [
    "# Predict"
   ]
  },
  {
   "cell_type": "markdown",
   "metadata": {},
   "source": [
    "#### Sample parameters"
   ]
  },
  {
   "cell_type": "code",
   "execution_count": 19,
   "metadata": {},
   "outputs": [],
   "source": [
    "%%capture\n",
    "n_sample = n_splines * 10\n",
    "\n",
    "sample_size_list = [0]*mr.num_splines\n",
    "\n",
    "if n_sample <= 2*mr.num_splines:\n",
    "    valid_id = np.argsort(mr.weights)[-(n_sample>>1):]\n",
    "else:\n",
    "    valid_id = np.arange(mr.num_splines)\n",
    "\n",
    "for i in valid_id:\n",
    "    sample_size_list[i] = int(np.rint(n_sample*mr.weights[i]))\n",
    "param_samples = [\n",
    "    LimeTr.sampleSoln(sub_mr.lt, sample_size=ss) for sub_mr, ss in zip(mr.mr_list, sample_size_list)\n",
    "]\n",
    "given_samples = {\n",
    "    'given_beta_samples_list': [i[0] for i in param_samples],\n",
    "    'given_gamma_samples_list': [i[1] for i in param_samples]\n",
    "}\n"
   ]
  },
  {
   "cell_type": "markdown",
   "metadata": {},
   "source": [
    "#### Set up prediction covariates"
   ]
  },
  {
   "cell_type": "code",
   "execution_count": 20,
   "metadata": {},
   "outputs": [],
   "source": [
    "# get exposure range\n",
    "x = np.arange(0, 25.1, 0.1)\n",
    "n_bins = x.size\n",
    "\n",
    "# make x-cov list\n",
    "pred_x_cov_list = [{\n",
    "    'x_cov_id': 0,\n",
    "    'cov_type': 'spline',\n",
    "    'spline_id': 0,\n",
    "    'mat': x\n",
    "}]\n",
    "\n",
    "for i in range(1, len(x_cov_list)):\n",
    "    pred_x_cov_list += [{\n",
    "        'x_cov_id': i,\n",
    "        'cov_type': 'linear',\n",
    "        'mat': np.zeros(len(x))\n",
    "    }]\n",
    "\n",
    "# make z-cov list\n",
    "pred_z_cov_list = [{\n",
    "   'z_cov_id': 0,\n",
    "   'cov_type': 'linear',\n",
    "   'mat': np.ones(len(x))\n",
    "}]\n",
    "\n",
    "for i in range(1, len(z_cov_list)):\n",
    "    pred_z_cov_list += [{\n",
    "        'z_cov_id': i,\n",
    "        'cov_type': 'linear',\n",
    "        'mat': np.zeros(len(x))\n",
    "    }]"
   ]
  },
  {
   "cell_type": "markdown",
   "metadata": {},
   "source": [
    "#### Make prediction"
   ]
  },
  {
   "cell_type": "code",
   "execution_count": 21,
   "metadata": {},
   "outputs": [],
   "source": [
    "y_samples_fe, beta_samples_fe, gamma_samples_fe, F_fe, Z_fe = \\\n",
    "    mr.predictData(pred_x_cov_list, pred_z_cov_list, n_sample,\n",
    "                   pred_study_sizes=[n_bins],\n",
    "                   #normalize_y_samples=True,\n",
    "                   include_random_effect=False,\n",
    "                   **given_samples)\n",
    "y_samples, beta_samples, gamma_samples, F, Z = \\\n",
    "    mr.predictData(pred_x_cov_list, pred_z_cov_list, n_sample,\n",
    "                   pred_study_sizes=[n_bins],\n",
    "                   #normalize_y_samples=True,\n",
    "                   include_random_effect=True,\n",
    "                   **given_samples)\n",
    "y_samples_fe = np.vstack(y_samples_fe).T\n",
    "y_samples = np.vstack(y_samples).T\n"
   ]
  },
  {
   "cell_type": "markdown",
   "metadata": {},
   "source": [
    "# Plot results\n"
   ]
  },
  {
   "cell_type": "code",
   "execution_count": 22,
   "metadata": {
    "scrolled": true
   },
   "outputs": [
    {
     "data": {
      "image/png": "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\n",
      "text/plain": [
       "<Figure size 864x576 with 1 Axes>"
      ]
     },
     "metadata": {
      "needs_background": "light"
     },
     "output_type": "display_data"
    }
   ],
   "source": [
    "# get summaries\n",
    "sample_mean = y_samples_fe.mean(axis=1)\n",
    "sample_upper = np.percentile(y_samples, 97.5, axis=1)\n",
    "sample_lower = np.percentile(y_samples, 2.5, axis=1)\n",
    "sample_upper_fe = np.percentile(y_samples_fe, 97.5, axis=1)\n",
    "sample_lower_fe = np.percentile(y_samples_fe, 2.5, axis=1)\n",
    "\n",
    "\n",
    "# get dose from data\n",
    "I_mat = x_cov_list[0]['mat']\n",
    "effect_mid = I_mat.mean(axis=0)\n",
    "\n",
    "# identify outliers\n",
    "w = np.sum([sub_mr.lt.w * weight for sub_mr, weight in zip(mr.mr_list, mr.weights)], axis=0)\n",
    "inliers = w > 0.6\n",
    "\n",
    "# size points\n",
    "pt_size = 1 / mr.obs_std**2\n",
    "pt_size = pt_size * (400 / pt_size.max())\n",
    "\n",
    "# set up plot\n",
    "plt.figure(figsize=(12, 8))\n",
    "plt.rcParams['axes.edgecolor'] = '0.15'\n",
    "plt.rcParams['axes.linewidth'] = 0.5\n",
    "\n",
    "# fit plot\n",
    "plt.plot(x, y_samples, c='indianred', alpha=0.025)\n",
    "plt.plot(x, y_samples_fe, c='dodgerblue', alpha=0.025)\n",
    "plt.plot(I_mat, np.array([mr.obs_mean, mr.obs_mean]), color='seagreen', alpha=0.15)\n",
    "plt.scatter(effect_mid[inliers], mr.obs_mean[inliers], s=pt_size[inliers],\n",
    "            c='seagreen', edgecolors='darkgreen', marker='o', alpha=0.75)\n",
    "plt.scatter(effect_mid[~inliers], mr.obs_mean[~inliers], s=pt_size[~inliers],\n",
    "            c='darkgreen', marker='x', alpha=0.75)\n",
    "plt.fill_between(x, sample_lower, sample_upper, color='grey', alpha=0.4)\n",
    "plt.fill_between(x, sample_lower_fe, sample_upper_fe, color='darkgrey', alpha=0.8)\n",
    "plt.plot(x, sample_mean, c='black')\n",
    "plt.ylabel('Risk')\n",
    "plt.xlabel('Dose')\n",
    "plt.ylim([-2, 4.5])\n",
    "\n",
    "# save\n",
    "plt.show()\n"
   ]
  },
  {
   "cell_type": "code",
   "execution_count": 27,
   "metadata": {},
   "outputs": [
    {
     "ename": "NameError",
     "evalue": "name 'x' is not defined",
     "output_type": "error",
     "traceback": [
      "\u001b[0;31m---------------------------------------------------------------------------\u001b[0m",
      "\u001b[0;31mNameError\u001b[0m                                 Traceback (most recent call last)",
      "\u001b[0;32m<ipython-input-27-a665d0548ee9>\u001b[0m in \u001b[0;36m<module>\u001b[0;34m\u001b[0m\n\u001b[1;32m      1\u001b[0m pd.DataFrame({\n\u001b[0;32m----> 2\u001b[0;31m     \u001b[0;34m'dose'\u001b[0m\u001b[0;34m:\u001b[0m \u001b[0mx\u001b[0m\u001b[0;34m,\u001b[0m\u001b[0;34m\u001b[0m\u001b[0;34m\u001b[0m\u001b[0m\n\u001b[0m\u001b[1;32m      3\u001b[0m     \u001b[0;34m'pred'\u001b[0m\u001b[0;34m:\u001b[0m \u001b[0msample_mean\u001b[0m\u001b[0;34m,\u001b[0m\u001b[0;34m\u001b[0m\u001b[0;34m\u001b[0m\u001b[0m\n\u001b[1;32m      4\u001b[0m     \u001b[0;34m'pred_lower'\u001b[0m\u001b[0;34m:\u001b[0m \u001b[0msample_lower\u001b[0m\u001b[0;34m,\u001b[0m\u001b[0;34m\u001b[0m\u001b[0;34m\u001b[0m\u001b[0m\n\u001b[1;32m      5\u001b[0m     \u001b[0;34m'pred_upper'\u001b[0m\u001b[0;34m:\u001b[0m \u001b[0msample_upper\u001b[0m\u001b[0;34m\u001b[0m\u001b[0;34m\u001b[0m\u001b[0m\n",
      "\u001b[0;31mNameError\u001b[0m: name 'x' is not defined"
     ]
    }
   ],
   "source": [
    "pd.DataFrame({\n",
    "    'dose': x,\n",
    "    'pred': sample_mean,\n",
    "    'pred_lower': sample_lower,\n",
    "    'pred_upper': sample_upper\n",
    "}).to_csv(os.path.join(OUT_DIR, 'risk_curve_output_test.csv'), index=False)\n"
   ]
  },
  {
   "cell_type": "code",
   "execution_count": 113,
   "metadata": {},
   "outputs": [
    {
     "data": {
      "text/html": [
       "<div>\n",
       "<style scoped>\n",
       "    .dataframe tbody tr th:only-of-type {\n",
       "        vertical-align: middle;\n",
       "    }\n",
       "\n",
       "    .dataframe tbody tr th {\n",
       "        vertical-align: top;\n",
       "    }\n",
       "\n",
       "    .dataframe thead th {\n",
       "        text-align: right;\n",
       "    }\n",
       "</style>\n",
       "<table border=\"1\" class=\"dataframe\">\n",
       "  <thead>\n",
       "    <tr style=\"text-align: right;\">\n",
       "      <th></th>\n",
       "      <th>dose</th>\n",
       "      <th>pred</th>\n",
       "      <th>pred_lower</th>\n",
       "      <th>pred_upper</th>\n",
       "    </tr>\n",
       "  </thead>\n",
       "  <tbody>\n",
       "    <tr>\n",
       "      <th>0</th>\n",
       "      <td>0.0</td>\n",
       "      <td>0.000000</td>\n",
       "      <td>0.000000</td>\n",
       "      <td>0.000000</td>\n",
       "    </tr>\n",
       "    <tr>\n",
       "      <th>1</th>\n",
       "      <td>0.1</td>\n",
       "      <td>0.000204</td>\n",
       "      <td>0.000004</td>\n",
       "      <td>0.000460</td>\n",
       "    </tr>\n",
       "    <tr>\n",
       "      <th>2</th>\n",
       "      <td>0.2</td>\n",
       "      <td>0.000817</td>\n",
       "      <td>0.000033</td>\n",
       "      <td>0.001779</td>\n",
       "    </tr>\n",
       "    <tr>\n",
       "      <th>3</th>\n",
       "      <td>0.3</td>\n",
       "      <td>0.001840</td>\n",
       "      <td>0.000116</td>\n",
       "      <td>0.003868</td>\n",
       "    </tr>\n",
       "    <tr>\n",
       "      <th>4</th>\n",
       "      <td>0.4</td>\n",
       "      <td>0.003273</td>\n",
       "      <td>0.000281</td>\n",
       "      <td>0.006638</td>\n",
       "    </tr>\n",
       "    <tr>\n",
       "      <th>...</th>\n",
       "      <td>...</td>\n",
       "      <td>...</td>\n",
       "      <td>...</td>\n",
       "      <td>...</td>\n",
       "    </tr>\n",
       "    <tr>\n",
       "      <th>246</th>\n",
       "      <td>24.6</td>\n",
       "      <td>1.811669</td>\n",
       "      <td>1.498413</td>\n",
       "      <td>2.241799</td>\n",
       "    </tr>\n",
       "    <tr>\n",
       "      <th>247</th>\n",
       "      <td>24.7</td>\n",
       "      <td>1.814281</td>\n",
       "      <td>1.500117</td>\n",
       "      <td>2.250585</td>\n",
       "    </tr>\n",
       "    <tr>\n",
       "      <th>248</th>\n",
       "      <td>24.8</td>\n",
       "      <td>1.816894</td>\n",
       "      <td>1.501820</td>\n",
       "      <td>2.258866</td>\n",
       "    </tr>\n",
       "    <tr>\n",
       "      <th>249</th>\n",
       "      <td>24.9</td>\n",
       "      <td>1.819506</td>\n",
       "      <td>1.503524</td>\n",
       "      <td>2.268697</td>\n",
       "    </tr>\n",
       "    <tr>\n",
       "      <th>250</th>\n",
       "      <td>25.0</td>\n",
       "      <td>1.822119</td>\n",
       "      <td>1.504542</td>\n",
       "      <td>2.280631</td>\n",
       "    </tr>\n",
       "  </tbody>\n",
       "</table>\n",
       "<p>251 rows × 4 columns</p>\n",
       "</div>"
      ],
     },
     "execution_count": 113,
     "metadata": {},
     "output_type": "execute_result"
    }
   ],
   "source": [
    "pd.DataFrame({\n",
    "    'dose': x,\n",
    "    'pred': sample_mean,\n",
    "    'pred_lower': sample_lower_fe,\n",
    "    'pred_upper': sample_upper_fe\n",
    "})"
   ]
  },
  {
   "cell_type": "code",
   "execution_count": 67,
   "metadata": {},
   "outputs": [
    {
     "data": {
      "text/plain": [
       "[0.0, 0.0, 0.0, 0.0, 0.0, 0.0, 0.0, 0.0, 0.0, 0.0]"
      ]
     },
     "execution_count": 67,
     "metadata": {},
     "output_type": "execute_result"
    }
   ],
   "source": [
    "[i.knots[0] for i in mr.spline_list]"
   ]
  },
  {
   "cell_type": "code",
   "execution_count": 116,
   "metadata": {},
   "outputs": [],
   "source": [
    "draws = pd.DataFrame(y_samples_fe)\n",
    "draws.columns = [\"draw_\" + str(i) for i in range(0,999)]\n",
    "draws['induration'] = x\n",
    "#draws.to_csv(os.path.join(OUT_DIR, 'risk_curve_output_draws_new.csv'), index=False)"
   ]
  },
  {
   "cell_type": "code",
   "execution_count": 117,
   "metadata": {},
   "outputs": [
    {
     "execution_count": 117,
     "metadata": {},
     "output_type": "execute_result"
    }
   ],
   "source": [
    "draws"
   ]
  },
  {
   "cell_type": "code",
   "execution_count": 9,
   "metadata": {},
   "outputs": [
   
     "execution_count": 9,
     "metadata": {},
     "output_type": "execute_result"
    }
   ],
   "source": [
    "knots_samples"
   ]
  },
 ],
 "metadata": {
  "kernelspec": {
   "display_name": "Python 3",
   "language": "python",
   "name": "python3"
  },
  "language_info": {
   "codemirror_mode": {
    "name": "ipython",
    "version": 3
   },
   "file_extension": ".py",
   "mimetype": "text/x-python",
   "name": "python",
   "nbconvert_exporter": "python",
   "pygments_lexer": "ipython3",
   "version": "3.6.7"
  }
 },
 "nbformat": 4,
 "nbformat_minor": 2
}
