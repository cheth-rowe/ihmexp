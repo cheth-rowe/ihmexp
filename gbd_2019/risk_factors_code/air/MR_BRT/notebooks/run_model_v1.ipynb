{
 "cells": [
  {
   "cell_type": "code",
   "execution_count": 1,
   "metadata": {},
   "outputs": [],
   "source": [
    "import sys\n",
    "import os\n",
    "\n",
    "import dill as pickle\n",
    "\n",
    "import numpy as np\n",
    "import pandas as pd\n",
    "pd.set_option('display.max_columns', 100)\n",
    "\n",
    "# sys.path.append('./')\n",
    "\n",
    "# from globals import *\n",
    "\n",
    "# from data_prep import load_data\n",
    "\n",
    "# from model import run_model\n"
   ]
  },
  {
   "cell_type": "code",
   "execution_count": 2,
   "metadata": {},
   "outputs": [],
   "source": [
    "def model_pipeline(file_name, save_name=None):\n",
    "    print('*************\\n' + file_name)\n",
    "    if file_name in ['bw', 'ga']:\n",
    "        measure = 'diff'\n",
    "    else:\n",
    "        measure = 'log_ratio'\n",
    "    if save_name is None:\n",
    "        save_name = file_name\n",
    "    print(measure)\n",
    "    \n",
    "    if not os.path.exists(os.path.join(OUT_DIR, save_name)):\n",
    "        os.mkdir(os.path.join(OUT_DIR, save_name))\n",
    "    \n",
    "    df, model_cols, mr = run_model(file_name, measure, n_splines=0, \n",
    "                                   include_smoking=False, linear=True)\n",
    "    beta_samples, gamma_samples = LimeTr.sampleSoln(mr.lt, sample_size=100)\n",
    "    beta_mean = beta_samples.mean(axis=0)\n",
    "    beta_std = beta_samples.std(axis=0)\n",
    "    insig_beta = (np.abs(beta_mean) / beta_std) <= 1.645\n",
    "    reduce_beta = np.abs(beta_mean) < 1e-5\n",
    "    bad_beta = insig_beta | reduce_beta\n",
    "\n",
    "    drop_cols = list(np.array(model_cols)[bad_beta[1:]])\n",
    "    drop_cols = \n",
    "\n",
    "    cov_sel_df = pd.DataFrame({\n",
    "        'covariate':model_cols,\n",
    "        'beta_mean':beta_mean[1:],\n",
    "        'beta_std':beta_std[1:],\n",
    "        'drop':bad_beta[1:]\n",
    "    })\n",
    "    cov_sel_df.to_csv(os.path.join(OUT_DIR, save_name, f'{save_name}_cov_selection.csv'), index=False)\n",
    "    \n",
    "    n_splines = 20\n",
    "    if measure == 'log_ratio':\n",
    "        df_nosmoke, model_cols_nosmoke, mr_nosmoke = run_model(\n",
    "            file_name, measure, n_splines=n_splines, include_smoking=False  #, drop_cols=drop_cols\n",
    "        )\n",
    "        df_nosmoke, model_cols_nosmoke, mr_nosmoke = run_model(\n",
    "            file_name, measure, n_splines=n_splines, include_smoking=True  #, drop_cols=drop_cols\n",
    "        )  \n",
    "    \n",
    "    n_bins = 100\n",
    "    pred_df = predict_n_plot(df, model_cols, mr, \n",
    "                             n_samples=n_splines*10, n_bins=n_bins, file_name=save_name, measure=measure)\n",
    "    \n",
    "    with open(os.path.join(OUT_DIR, save_name, f'{save_name}_mr.pkl'), 'wb') as fopen:\n",
    "        pickle.dump(mr, fopen, -1)\n",
    "    \n",
    "    pred_df.to_csv(os.path.join(OUT_DIR, save_name, f'{save_name}_preds.csv'), index=False)\n"
   ]
  },
  {
   "cell_type": "code",
   "execution_count": null,
   "metadata": {},
   "outputs": [
    {
     "name": "stdout",
     "output_type": "stream",
     "text": [
      "*************\n",
      "cvd_stroke\n",
      "log_ratio\n",
      "Knot range: 4.859277777777778 to 81.32076117961364\n",
      "Minimum interval width: 7.6461483401835855\n",
      "*************\n",
      "cvd_stroke\n",
      "log_ratio\n",
      "Knot range: 7.401327033771469 to 19793.07448965117\n",
      "Minimum interval width: 1978.56731626174\n"
     ]
    }
   ],
   "source": [
    "if not os.path.exists(OUT_DIR):\n",
    "    os.mkdir(OUT_DIR)\n",
    "for file_name in ['cvd_stroke', 'cvd_ihd', 'neo_lung', 't2_dm', 'lri', 'resp_copd', 'bw', 'ga']:\n",
    "    model_pipeline(file_name)\n"
   ]
  },
  {
   "cell_type": "code",
   "execution_count": null,
   "metadata": {},
   "outputs": [],
   "source": []
  }
 ],
 "metadata": {
  "kernelspec": {
   "display_name": "Python 3",
   "language": "python",
   "name": "python3"
  },
  "language_info": {
   "codemirror_mode": {
    "name": "ipython",
    "version": 3
   },
   "file_extension": ".py",
   "mimetype": "text/x-python",
   "name": "python",
   "nbconvert_exporter": "python",
   "pygments_lexer": "ipython3",
   "version": "3.6.8"
  }
 },
 "nbformat": 4,
 "nbformat_minor": 2
}
